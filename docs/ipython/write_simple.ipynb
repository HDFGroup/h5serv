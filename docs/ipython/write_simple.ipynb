{
 "metadata": {
  "name": "",
  "signature": "sha256:313c9cd8494b9ff27d30e7702b30a23a1e4a1ce5c03baf8c763f0ed4559d2faf"
 },
 "nbformat": 3,
 "nbformat_minor": 0,
 "worksheets": [
  {
   "cells": [
    {
     "cell_type": "code",
     "collapsed": false,
     "input": [
      "#these are the only imports we need\n",
      "#note - no h5py or h5rest\n",
      "import requests\n",
      "import json\n",
      "import time"
     ],
     "language": "python",
     "metadata": {},
     "outputs": [],
     "prompt_number": 93
    },
    {
     "cell_type": "code",
     "collapsed": false,
     "input": [
      "# this is where we will direct our http requests\n",
      "endpoint = 'http://127.0.0.1:5000'\n",
      "# make up a unique collection name (so we don't collide with previous runs)\n",
      "domain = \"h5rest_write_\" + str(int(time.time())) + \".test.hdf.io\"\n",
      "# sent in the http request header\n",
      "headers = {'host': domain}"
     ],
     "language": "python",
     "metadata": {},
     "outputs": [],
     "prompt_number": 94
    },
    {
     "cell_type": "code",
     "collapsed": false,
     "input": [
      "print domain"
     ],
     "language": "python",
     "metadata": {},
     "outputs": [
      {
       "output_type": "stream",
       "stream": "stdout",
       "text": [
        "h5rest_write_1413563250.test.hdf.io\n"
       ]
      }
     ],
     "prompt_number": 95
    },
    {
     "cell_type": "code",
     "collapsed": false,
     "input": [
      "# Do a \"PUT /\" to create a new collection (i.e. file)\n",
      "req = endpoint + '/'\n",
      "print 'req: PUT', req"
     ],
     "language": "python",
     "metadata": {},
     "outputs": [
      {
       "output_type": "stream",
       "stream": "stdout",
       "text": [
        "req: PUT http://127.0.0.1:5000/\n"
       ]
      }
     ],
     "prompt_number": 96
    },
    {
     "cell_type": "code",
     "collapsed": false,
     "input": [
      "# now send the request - http PUT verb\n",
      "rsp = requests.put(req, headers=headers)\n",
      "# convert the response to json\n",
      "rspJson = json.loads(rsp.text)\n",
      "print(json.dumps(rspJson, indent=2))"
     ],
     "language": "python",
     "metadata": {},
     "outputs": [
      {
       "output_type": "stream",
       "stream": "stdout",
       "text": [
        "{\n",
        "  \"typeCount\": 0, \n",
        "  \"links\": [\n",
        "    {\n",
        "      \"rel:\": \"self\", \n",
        "      \"href\": \"http://h5rest_write_1413563250.test.hdf.io/\"\n",
        "    }, \n",
        "    {\n",
        "      \"rel:\": \"database\", \n",
        "      \"href\": \"http://h5rest_write_1413563250.test.hdf.io/datasets\"\n",
        "    }, \n",
        "    {\n",
        "      \"rel:\": \"linkbase\", \n",
        "      \"href\": \"http://h5rest_write_1413563250.test.hdf.io/groups\"\n",
        "    }, \n",
        "    {\n",
        "      \"rel:\": \"typebase\", \n",
        "      \"href\": \"http://h5rest_write_1413563250.test.hdf.io/datatypes\"\n",
        "    }, \n",
        "    {\n",
        "      \"rel:\": \"root\", \n",
        "      \"href\": \"http://h5rest_write_1413563250.test.hdf.io/groups/9402cfa1-561a-11e4-bf3f-3c15c2da029e\"\n",
        "    }\n",
        "  ], \n",
        "  \"created\": 1413563288.0, \n",
        "  \"lastModified\": 1413563288.0, \n",
        "  \"groupCount\": 1, \n",
        "  \"datasetCount\": 0, \n",
        "  \"root\": \"9402cfa1-561a-11e4-bf3f-3c15c2da029e\"\n",
        "}\n"
       ]
      }
     ],
     "prompt_number": 97
    },
    {
     "cell_type": "code",
     "collapsed": false,
     "input": [
      "#save the root_uuid\n",
      "root_uuid = rspJson['root']\n",
      "print 'root_uuid:', root_uuid"
     ],
     "language": "python",
     "metadata": {},
     "outputs": [
      {
       "output_type": "stream",
       "stream": "stdout",
       "text": [
        "root_uuid: 9402cfa1-561a-11e4-bf3f-3c15c2da029e\n"
       ]
      }
     ],
     "prompt_number": 98
    },
    {
     "cell_type": "code",
     "collapsed": false,
     "input": [
      "# create a new dataset\n",
      "extent = 1000\n",
      "req = endpoint + \"/datasets/\"\n",
      "payload = {'type': 'float32', 'shape': extent}\n",
      "print 'req: POST', req, str(payload)"
     ],
     "language": "python",
     "metadata": {},
     "outputs": [
      {
       "output_type": "stream",
       "stream": "stdout",
       "text": [
        "req: POST http://127.0.0.1:5000/datasets/ {'shape': 1000, 'type': 'float32'}\n"
       ]
      }
     ],
     "prompt_number": 99
    },
    {
     "cell_type": "code",
     "collapsed": false,
     "input": [
      "# send the request\n",
      "rsp = requests.post(req, data=json.dumps(payload), headers=headers)\n",
      "rspJson = json.loads(rsp.text)\n",
      "print(json.dumps(rspJson, indent=2))\n",
      "dset_uuid = rspJson['id']"
     ],
     "language": "python",
     "metadata": {},
     "outputs": [
      {
       "output_type": "stream",
       "stream": "stdout",
       "text": [
        "{\n",
        "  \"lastModified\": 1413563321.870599, \n",
        "  \"attributeCount\": 0, \n",
        "  \"id\": \"a82e3957-561a-11e4-9554-3c15c2da029e\", \n",
        "  \"links\": [\n",
        "    {\n",
        "      \"rel:\": \"self\", \n",
        "      \"href\": \"http://h5rest_write_1413563250.test.hdf.io/datasets/a82e3957-561a-11e4-9554-3c15c2da029e\"\n",
        "    }, \n",
        "    {\n",
        "      \"rel:\": \"root\", \n",
        "      \"href\": \"http://h5rest_write_1413563250.test.hdf.io/groups/9402cfa1-561a-11e4-bf3f-3c15c2da029e\"\n",
        "    }, \n",
        "    {\n",
        "      \"rel:\": \"attributes\", \n",
        "      \"href\": \"http://h5rest_write_1413563250.test.hdf.io/datasets/a82e3957-561a-11e4-9554-3c15c2da029e/attributes\"\n",
        "    }, \n",
        "    {\n",
        "      \"rel:\": \"value\", \n",
        "      \"href\": \"http://h5rest_write_1413563250.test.hdf.io/datasets/a82e3957-561a-11e4-9554-3c15c2da029e/value\"\n",
        "    }\n",
        "  ], \n",
        "  \"created\": 1413563321.870599\n",
        "}\n"
       ]
      }
     ],
     "prompt_number": 100
    },
    {
     "cell_type": "code",
     "collapsed": false,
     "input": [
      "#link dataset to root as '/chirp'\n",
      "req = endpoint + \"/groups/\" + root_uuid + \"/links/\" + 'chirp' \n",
      "payload = {\"id\": dset_uuid}\n",
      "print \"req: PUT\", req\n",
      "print str(payload)"
     ],
     "language": "python",
     "metadata": {},
     "outputs": [
      {
       "output_type": "stream",
       "stream": "stdout",
       "text": [
        "req: PUT http://127.0.0.1:5000/groups/9402cfa1-561a-11e4-bf3f-3c15c2da029e/links/chirp\n",
        "{'id': u'a82e3957-561a-11e4-9554-3c15c2da029e'}\n"
       ]
      }
     ],
     "prompt_number": 101
    },
    {
     "cell_type": "code",
     "collapsed": false,
     "input": [
      "# send the request\n",
      "rsp = requests.put(req, data=json.dumps(payload), headers=headers)\n",
      "print rsp.status_code  # no response body, just httpstatus 200 -> ok"
     ],
     "language": "python",
     "metadata": {},
     "outputs": [
      {
       "output_type": "stream",
       "stream": "stdout",
       "text": [
        "201\n"
       ]
      }
     ],
     "prompt_number": 102
    },
    {
     "cell_type": "code",
     "collapsed": false,
     "input": [
      "# create some data to write\n",
      "import numpy as np  # for math stuff\n",
      "import matplotlib.pyplot as plt  # for plotting\n",
      "%matplotlib inline\n",
      "data = []\n",
      "for i in range(extent):\n",
      "        x = (3.0 * np.pi * i)/extent\n",
      "        y = np.sin(x**2)\n",
      "        data.append(y)\n",
      "#print data\n",
      "plt.plot(data)\n",
      "#plt.ylabel('some numbers')\n",
      "plt.title('Data before going to the server...');"
     ],
     "language": "python",
     "metadata": {},
     "outputs": [
      {
       "metadata": {},
       "output_type": "display_data",
       "png": "[encoded data removed]",
       "text": [
        "<matplotlib.figure.Figure at 0x10ca3e950>"
       ]
      }
     ],
     "prompt_number": 103
    },
    {
     "cell_type": "code",
     "collapsed": false,
     "input": [
      "# send the data to the dataset\n",
      "req = endpoint + \"/datasets/\" + dset_uuid + \"/value\" \n",
      "payload = {'type': 'float32', 'shape': extent, 'value': data }\n",
      "headers = {'host': domain}\n",
      "print 'req: PUT: ', req\n",
      "print str(payload)[:80], \"...]}'\"  # don't show all the data values"
     ],
     "language": "python",
     "metadata": {},
     "outputs": [
      {
       "output_type": "stream",
       "stream": "stdout",
       "text": [
        "req: PUT:  http://127.0.0.1:5000/datasets/a82e3957-561a-11e4-9554-3c15c2da029e/value\n",
        "{'shape': 1000, 'type': 'float32', 'value': [0.0, 8.8826439492995443e-05, 0.0003 ...]}'\n"
       ]
      }
     ],
     "prompt_number": 104
    },
    {
     "cell_type": "code",
     "collapsed": false,
     "input": [
      "# send the request\n",
      "rsp = requests.put(req, data=json.dumps(payload), headers=headers)\n",
      "print rsp.status_code  # no response body, just httpstatus 200 -> ok"
     ],
     "language": "python",
     "metadata": {},
     "outputs": [
      {
       "output_type": "stream",
       "stream": "stdout",
       "text": [
        "200\n"
       ]
      }
     ],
     "prompt_number": 105
    },
    {
     "cell_type": "code",
     "collapsed": false,
     "input": [
      "# now try reading the data back again\n",
      "req = endpoint + \"/datasets/\" + dset_uuid + \"/value\"\n",
      "print 'req: GET', req\n"
     ],
     "language": "python",
     "metadata": {},
     "outputs": [
      {
       "output_type": "stream",
       "stream": "stdout",
       "text": [
        "req: GET http://127.0.0.1:5000/datasets/a82e3957-561a-11e4-9554-3c15c2da029e/value\n"
       ]
      }
     ],
     "prompt_number": 106
    },
    {
     "cell_type": "code",
     "collapsed": false,
     "input": [
      "#send the request\n",
      "rsp = requests.get(req, headers=headers)\n",
      "rspJson = json.loads(rsp.text)\n",
      "ret_data = rspJson['value'] \n",
      "#plot data\n",
      "plt.plot(ret_data)\n",
      "#plt.ylabel('some numbers')\n",
      "plt.title('Data we got back from the server...');\n",
      "           "
     ],
     "language": "python",
     "metadata": {},
     "outputs": [
      {
       "metadata": {},
       "output_type": "display_data",
       "png": "[encoded data removed]",
       "text": [
        "<matplotlib.figure.Figure at 0x1062d8e50>"
       ]
      }
     ],
     "prompt_number": 107
    },
    {
     "cell_type": "code",
     "collapsed": false,
     "input": [],
     "language": "python",
     "metadata": {},
     "outputs": []
    },
    {
     "cell_type": "code",
     "collapsed": false,
     "input": [],
     "language": "python",
     "metadata": {},
     "outputs": []
    },
    {
     "cell_type": "code",
     "collapsed": false,
     "input": [],
     "language": "python",
     "metadata": {},
     "outputs": []
    }
   ],
   "metadata": {}
  }
 ]
}