{
 "metadata": {
  "name": "",
  "signature": "sha256:72459cb0d8825e2ee2efe2d8401de220e9c952a3f6ecd7c93f26d5928ff9dd16"
 },
 "nbformat": 3,
 "nbformat_minor": 0,
 "worksheets": [
  {
   "cells": [
    {
     "cell_type": "code",
     "collapsed": false,
     "input": [
      "#these are the only imports we need\n",
      "#note - no h5py or h5rest\n",
      "import requests\n",
      "import json"
     ],
     "language": "python",
     "metadata": {},
     "outputs": []
    },
    {
     "cell_type": "code",
     "collapsed": false,
     "input": [
      "# this is where we will direct our http requests\n",
      "endpoint = 'http://127.0.0.1:5000'\n",
      "# this is the hdf collection we will read (tall.h5 in the server data directory)\n",
      "domain = \"tall.test.hdf.io\"\n",
      "# sent in the http request header\n",
      "headers = {'host': domain}"
     ],
     "language": "python",
     "metadata": {},
     "outputs": [],
     "prompt_number": 107
    },
    {
     "cell_type": "code",
     "collapsed": false,
     "input": [
      "# Do a \"GET /\" to get root group info\n",
      "req = endpoint + '/'\n",
      "print 'req:', req\n"
     ],
     "language": "python",
     "metadata": {},
     "outputs": [
      {
       "output_type": "stream",
       "stream": "stdout",
       "text": [
        "req: http://127.0.0.1:5000/\n"
       ]
      }
     ],
     "prompt_number": 108
    },
    {
     "cell_type": "code",
     "collapsed": false,
     "input": [
      "# now send the request - http get verb\n",
      "rsp = requests.get(req, headers=headers)\n",
      "# convert the response to json\n",
      "rspJson = json.loads(rsp.text)\n",
      "print(json.dumps(rspJson, indent=2))"
     ],
     "language": "python",
     "metadata": {},
     "outputs": [
      {
       "output_type": "stream",
       "stream": "stdout",
       "text": [
        "{\n",
        "  \"typeCount\": 0, \n",
        "  \"links\": [\n",
        "    {\n",
        "      \"rel:\": \"self\", \n",
        "      \"href\": \"http://tall.test.hdf.io/\"\n",
        "    }, \n",
        "    {\n",
        "      \"rel:\": \"database\", \n",
        "      \"href\": \"http://tall.test.hdf.io/datasets\"\n",
        "    }, \n",
        "    {\n",
        "      \"rel:\": \"groupbase\", \n",
        "      \"href\": \"http://tall.test.hdf.io/groups\"\n",
        "    }, \n",
        "    {\n",
        "      \"rel:\": \"typebase\", \n",
        "      \"href\": \"http://tall.test.hdf.io/datatypes\"\n",
        "    }, \n",
        "    {\n",
        "      \"rel:\": \"root\", \n",
        "      \"href\": \"http://tall.test.hdf.io/groups/f47281ba-5b34-11e4-bdf6-3c15c2da029e\"\n",
        "    }\n",
        "  ], \n",
        "  \"created\": 1414124372.0, \n",
        "  \"lastModified\": 1414124372.0, \n",
        "  \"groupCount\": 6, \n",
        "  \"datasetCount\": 4, \n",
        "  \"root\": \"f47281ba-5b34-11e4-bdf6-3c15c2da029e\"\n",
        "}\n"
       ]
      }
     ],
     "prompt_number": 109
    },
    {
     "cell_type": "code",
     "collapsed": false,
     "input": [
      "# get all the links of the root group\n",
      "root_uuid = rspJson[\"root\"]\n",
      "req = endpoint + '/groups/' + root_uuid + \"/links\"\n",
      "print 'req:', req"
     ],
     "language": "python",
     "metadata": {},
     "outputs": [
      {
       "output_type": "stream",
       "stream": "stdout",
       "text": [
        "req: http://127.0.0.1:5000/groups/f47281ba-5b34-11e4-bdf6-3c15c2da029e/links\n"
       ]
      }
     ],
     "prompt_number": 110
    },
    {
     "cell_type": "code",
     "collapsed": false,
     "input": [
      "# send the request\n",
      "rsp = requests.get(req, headers=headers)\n",
      "rspJson = json.loads(rsp.text)\n",
      "print(json.dumps(rspJson, indent=2))"
     ],
     "language": "python",
     "metadata": {},
     "outputs": [
      {
       "output_type": "stream",
       "stream": "stdout",
       "text": [
        "{\n",
        "  \"links\": [\n",
        "    {\n",
        "      \"href\": \"http://tall.test.hdf.io/groups/f4729b14-5b34-11e4-ac02-3c15c2da029e\", \n",
        "      \"class\": \"Group\", \n",
        "      \"name\": \"g1\", \n",
        "      \"id\": \"f4729b14-5b34-11e4-ac02-3c15c2da029e\"\n",
        "    }, \n",
        "    {\n",
        "      \"href\": \"http://tall.test.hdf.io/groups/f472f347-5b34-11e4-a002-3c15c2da029e\", \n",
        "      \"class\": \"Group\", \n",
        "      \"name\": \"g2\", \n",
        "      \"id\": \"f472f347-5b34-11e4-a002-3c15c2da029e\"\n",
        "    }\n",
        "  ]\n",
        "}\n"
       ]
      }
     ],
     "prompt_number": 111
    },
    {
     "cell_type": "code",
     "collapsed": false,
     "input": [
      "# in the response are the uuid's for g1 and g2\n",
      "for link in rspJson['links']:\n",
      "        if link['name'] == 'g1':\n",
      "                g1_uuid = link['id']\n",
      "        elif link['name'] == 'g2':\n",
      "                g2_uuid = link['id']\n",
      "print 'g1_uuid:', g1_uuid\n",
      "print 'g2_uuid:', g2_uuid"
     ],
     "language": "python",
     "metadata": {},
     "outputs": [
      {
       "output_type": "stream",
       "stream": "stdout",
       "text": [
        "g1_uuid: f4729b14-5b34-11e4-ac02-3c15c2da029e\n",
        "g2_uuid: f472f347-5b34-11e4-a002-3c15c2da029e\n"
       ]
      }
     ],
     "prompt_number": 112
    },
    {
     "cell_type": "code",
     "collapsed": false,
     "input": [
      "# go from /g1 to /g1/g1.1 and get dset uuid's\n",
      "req = endpoint + '/groups/' + g1_uuid + \"/links\"\n",
      "print 'req:', req\n",
      "rsp = requests.get(req, headers=headers)\n",
      "rspJson = json.loads(rsp.text)\n",
      "print(json.dumps(rspJson, indent=2))\n",
      "for link in rspJson['links']:\n",
      "        if link['name'] == 'g1.1':\n",
      "                g11_uuid = link['id']\n",
      "        elif link['name'] == 'g1.2':\n",
      "                g12_uuid = link['id']\n",
      "print 'g11_uuid:', g11_uuid\n",
      "print 'g12_uuid:', g12_uuid\n",
      "req = endpoint + '/groups/' + g11_uuid + \"/links\"\n",
      "print 'req:', req\n",
      "rsp = requests.get(req, headers=headers)\n",
      "rspJson = json.loads(rsp.text)\n",
      "print(json.dumps(rspJson, indent=2))\n",
      "for link in rspJson['links']:\n",
      "        if link['name'] == 'dset1.1.1':\n",
      "                d111_uuid = link['id']\n",
      "        elif link['name'] == 'dset1.1.2':\n",
      "                d112_uuid = link['id']\n",
      "print 'd111_uuid:', d111_uuid\n",
      "print 'd112_uuid:', d112_uuid\n"
     ],
     "language": "python",
     "metadata": {},
     "outputs": [
      {
       "output_type": "stream",
       "stream": "stdout",
       "text": [
        "req: http://127.0.0.1:5000/groups/f4729b14-5b34-11e4-ac02-3c15c2da029e/links\n",
        "{\n",
        "  \"links\": [\n",
        "    {\n",
        "      \"href\": \"http://tall.test.hdf.io/groups/f472a911-5b34-11e4-b672-3c15c2da029e\", \n",
        "      \"class\": \"Group\", \n",
        "      \"name\": \"g1.1\", \n",
        "      \"id\": \"f472a911-5b34-11e4-b672-3c15c2da029e\"\n",
        "    }, \n",
        "    {\n",
        "      \"href\": \"http://tall.test.hdf.io/groups/f472d84a-5b34-11e4-9e43-3c15c2da029e\", \n",
        "      \"class\": \"Group\", \n",
        "      \"name\": \"g1.2\", \n",
        "      \"id\": \"f472d84a-5b34-11e4-9e43-3c15c2da029e\"\n",
        "    }\n",
        "  ]\n",
        "}\n",
        "g11_uuid: f472a911-5b34-11e4-b672-3c15c2da029e\n",
        "g12_uuid: f472d84a-5b34-11e4-9e43-3c15c2da029e\n",
        "req: http://127.0.0.1:5000/groups/f472a911-5b34-11e4-b672-3c15c2da029e/links\n",
        "{\n",
        "  \"links\": [\n",
        "    {\n",
        "      \"href\": \"http://tall.test.hdf.io/datasets/f472ba40-5b34-11e4-8faf-3c15c2da029e\", \n",
        "      \"class\": \"Dataset\", \n",
        "      \"name\": \"dset1.1.1\", \n",
        "      \"id\": \"f472ba40-5b34-11e4-8faf-3c15c2da029e\"\n",
        "    }, \n",
        "    {\n",
        "      \"href\": \"http://tall.test.hdf.io/datasets/f472ca4c-5b34-11e4-9038-3c15c2da029e\", \n",
        "      \"class\": \"Dataset\", \n",
        "      \"name\": \"dset1.1.2\", \n",
        "      \"id\": \"f472ca4c-5b34-11e4-9038-3c15c2da029e\"\n",
        "    }\n",
        "  ]\n",
        "}\n",
        "d111_uuid: f472ba40-5b34-11e4-8faf-3c15c2da029e\n",
        "d112_uuid: f472ca4c-5b34-11e4-9038-3c15c2da029e\n"
       ]
      }
     ],
     "prompt_number": 113
    },
    {
     "cell_type": "code",
     "collapsed": false,
     "input": [
      "# Finally create a request to get some values from /g1/g1.1/dset1.1.1\n",
      "# We will use query params to get just the 10th row (hyperslab selection)\n",
      "req = endpoint + '/datasets/' + d111_uuid + '/value?dim1_start=9&dim1_stop=10'\n",
      "print 'req:', req"
     ],
     "language": "python",
     "metadata": {},
     "outputs": [
      {
       "output_type": "stream",
       "stream": "stdout",
       "text": [
        "req: http://127.0.0.1:5000/datasets/f472ba40-5b34-11e4-8faf-3c15c2da029e/value?dim1_start=9&dim1_stop=10\n"
       ]
      }
     ],
     "prompt_number": 114
    },
    {
     "cell_type": "code",
     "collapsed": false,
     "input": [
      "#send the request\n",
      "rsp = requests.get(req, headers=headers)\n",
      "rspJson = json.loads(rsp.text)\n",
      "print(json.dumps(rspJson, indent=2))"
     ],
     "language": "python",
     "metadata": {},
     "outputs": [
      {
       "output_type": "stream",
       "stream": "stdout",
       "text": [
        "{\n",
        "  \"value\": [\n",
        "    [\n",
        "      0, \n",
        "      9, \n",
        "      18, \n",
        "      27, \n",
        "      36, \n",
        "      45, \n",
        "      54, \n",
        "      63, \n",
        "      72, \n",
        "      81\n",
        "    ]\n",
        "  ]\n",
        "}\n"
       ]
      }
     ],
     "prompt_number": 115
    },
    {
     "cell_type": "code",
     "collapsed": false,
     "input": [
      "# plot the data\n",
      "%matplotlib inline\n",
      "import matplotlib.pyplot as plt\n",
      "data = rspJson['value']\n",
      "series = data[0]\n",
      "plt.plot(series)\n",
      "#plt.ylabel('some numbers')\n",
      "plt.show()"
     ],
     "language": "python",
     "metadata": {},
     "outputs": [
      {
       "metadata": {},
       "output_type": "display_data",
       "png": "[encoded data removed]",
       "text": [
        "<matplotlib.figure.Figure at 0x10b4c1390>"
       ]
      }
     ],
     "prompt_number": 116
    },
    {
     "cell_type": "code",
     "collapsed": false,
     "input": [],
     "language": "python",
     "metadata": {},
     "outputs": []
    }
   ],
   "metadata": {}
  }
 ]
}