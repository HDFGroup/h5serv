{
 "cells": [
  {
   "cell_type": "code",
   "execution_count": 13,
   "metadata": {
    "collapsed": false
   },
   "outputs": [],
   "source": [
    "import h5pyd\n",
    "import numpy as np\n"
   ]
  },
  {
   "cell_type": "code",
   "execution_count": 14,
   "metadata": {
    "collapsed": false
   },
   "outputs": [],
   "source": [
    "# executed by workers - add random values to cells\n",
    "# n is the id for this worker\n",
    "def add_points(n):\n",
    "    # use 'a' since we'll be reading and writing to the domain\n",
    "    f = h5pyd.File(\"pi_calc.test.hdfgroup.org\", \"a\", endpoint=\"http://127.0.0.1:5000\")\n",
    "    g = f['pi']\n",
    "    # get the number of workers\n",
    "    num_workers = g.attrs['workers']\n",
    "    pts = g['pts']\n",
    "    # eacher worker will write count points\n",
    "    count = pts.shape[0] / num_workers\n",
    "    #arr = np.random.rand(n,2)\n",
    "    for i in range(count):\n",
    "        # update one row\n",
    "        # In a real program, we'd want to update a batch of elements at a time\n",
    "        pts[i*num_workers + n] = (rd.random(), rd.random())\n",
    "    return count\n",
    "        \n",
    " \n"
   ]
  },
  {
   "cell_type": "code",
   "execution_count": 15,
   "metadata": {
    "collapsed": false
   },
   "outputs": [],
   "source": [
    "# create a new domain (file)\n",
    "f = h5pyd.File(\"pi_calc.test.hdfgroup.org\", \"w\", endpoint=\"http://127.0.0.1:5000\")\n",
    "g = f.create_group('pi')\n",
    "g.attrs['workers'] = 4\n",
    "NUM = 1200\n",
    "# create the dataset\n",
    "dset = g.create_dataset('pts', (NUM,2), dtype='f8')\n",
    "\n"
   ]
  },
  {
   "cell_type": "code",
   "execution_count": 16,
   "metadata": {
    "collapsed": false
   },
   "outputs": [
    {
     "data": {
      "text/plain": [
       "[0, 1, 2, 3]"
      ]
     },
     "execution_count": 16,
     "metadata": {},
     "output_type": "execute_result"
    }
   ],
   "source": [
    "# setup the workers\n",
    "from IPython.parallel import Client\n",
    "\n",
    "c = Client()\n",
    "dview = c.direct_view()\n",
    "dview.execute('import random as rd')\n",
    "dview.execute('import h5pyd')\n",
    "dview.execute('import numpy as np')\n",
    "c.block = True\n",
    "c.ids\n"
   ]
  },
  {
   "cell_type": "code",
   "execution_count": 17,
   "metadata": {
    "collapsed": false
   },
   "outputs": [
    {
     "data": {
      "text/plain": [
       "[300, 300, 300, 300]"
      ]
     },
     "execution_count": 17,
     "metadata": {},
     "output_type": "execute_result"
    }
   ],
   "source": [
    "# have workers run add_points\n",
    "c[:].map(add_points, range(4))"
   ]
  },
  {
   "cell_type": "code",
   "execution_count": 18,
   "metadata": {
    "collapsed": false
   },
   "outputs": [
    {
     "data": {
      "text/plain": [
       "3.15"
      ]
     },
     "execution_count": 18,
     "metadata": {},
     "output_type": "execute_result"
    }
   ],
   "source": [
    "# tabulate results\n",
    "count = 0\n",
    "pts = dset[...]\n",
    "for i in range(NUM):\n",
    "    x = pts[i,0]\n",
    "    y = pts[i,1]\n",
    "    if x*x + y*y <= 1:\n",
    "        count += 1\n",
    "        \n",
    "(count * 4.0)/NUM\n",
    "    "
   ]
  },
  {
   "cell_type": "code",
   "execution_count": null,
   "metadata": {
    "collapsed": true
   },
   "outputs": [],
   "source": []
  }
 ],
 "metadata": {
  "kernelspec": {
   "display_name": "Python 2",
   "language": "python",
   "name": "python2"
  },
  "language_info": {
   "codemirror_mode": {
    "name": "ipython",
    "version": 2
   },
   "file_extension": ".py",
   "mimetype": "text/x-python",
   "name": "python",
   "nbconvert_exporter": "python",
   "pygments_lexer": "ipython2",
   "version": "2.7.9"
  }
 },
 "nbformat": 4,
 "nbformat_minor": 0
}
