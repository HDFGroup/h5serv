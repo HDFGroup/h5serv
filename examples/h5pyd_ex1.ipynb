{
 "cells": [
  {
   "cell_type": "code",
   "execution_count": null,
   "metadata": {
    "collapsed": false
   },
   "outputs": [],
   "source": [
    "%matplotlib inline\n",
    "import h5pyd\n",
    "import numpy as np"
   ]
  },
  {
   "cell_type": "code",
   "execution_count": null,
   "metadata": {
    "collapsed": false
   },
   "outputs": [],
   "source": [
    "# get handle to domain object\n",
    "f = h5pyd.File(\"craterlake.test.hdfgroup.org\", \"r\", endpoint=\"http://127.0.0.1:5000\")\n",
    "# this is the root group uuid\n",
    "f.id.uuid"
   ]
  },
  {
   "cell_type": "code",
   "execution_count": null,
   "metadata": {
    "collapsed": false
   },
   "outputs": [],
   "source": [
    "dset = f['/Data']\n",
    "dset.id.uuid\n",
    "print \"name:\", dset.name\n",
    "print \"shape:\", dset.shape\n",
    "print \"type:\", dset.dtype"
   ]
  },
  {
   "cell_type": "code",
   "execution_count": null,
   "metadata": {
    "collapsed": false
   },
   "outputs": [],
   "source": [
    "#plot the data\n",
    "ndarr = dset[...]\n",
    "import matplotlib.pyplot as plt\n",
    "plt.imshow(ndarr)\n",
    "plt.set_cmap('spectral')\n",
    "plt.colorbar()\n",
    "plt.show()\n"
   ]
  },
  {
   "cell_type": "code",
   "execution_count": null,
   "metadata": {
    "collapsed": false
   },
   "outputs": [],
   "source": [
    "# zoom in on wizard island\n",
    "ndarr = dset[140:180,90:130]\n",
    "plt.imshow(ndarr)\n",
    "plt.set_cmap('spectral')\n",
    "plt.colorbar()\n",
    "plt.show()"
   ]
  },
  {
   "cell_type": "code",
   "execution_count": null,
   "metadata": {
    "collapsed": false
   },
   "outputs": [],
   "source": [
    "g = h5pyd.File(\"nanex.test.hdfgroup.org\", \"r\", endpoint=\"http://127.0.0.1:5000\")\n",
    "dset = g['/Nanex/OKey']\n",
    "print \"shape:\", dset.shape\n",
    "print \"type:\", dset.dtype"
   ]
  },
  {
   "cell_type": "code",
   "execution_count": null,
   "metadata": {
    "collapsed": false
   },
   "outputs": [],
   "source": [
    "aapl = dset.read_where('RootSymbol == \"AAPL\"') #get all rows where the symbol is AAPL"
   ]
  },
  {
   "cell_type": "code",
   "execution_count": null,
   "metadata": {
    "collapsed": false
   },
   "outputs": [],
   "source": [
    "aapl.shape"
   ]
  },
  {
   "cell_type": "code",
   "execution_count": null,
   "metadata": {
    "collapsed": false
   },
   "outputs": [],
   "source": [
    "aapl[0:5]  # first 5 rows"
   ]
  },
  {
   "cell_type": "code",
   "execution_count": null,
   "metadata": {
    "collapsed": true
   },
   "outputs": [],
   "source": []
  }
 ],
 "metadata": {
  "kernelspec": {
   "display_name": "Python 2",
   "language": "python",
   "name": "python2"
  },
  "language_info": {
   "codemirror_mode": {
    "name": "ipython",
    "version": 2
   },
   "file_extension": ".py",
   "mimetype": "text/x-python",
   "name": "python",
   "nbconvert_exporter": "python",
   "pygments_lexer": "ipython2",
   "version": "2.7.9"
  }
 },
 "nbformat": 4,
 "nbformat_minor": 0
}
