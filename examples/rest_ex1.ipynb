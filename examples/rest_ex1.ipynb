{
 "cells": [
  {
   "cell_type": "code",
   "execution_count": 3,
   "metadata": {
    "collapsed": false
   },
   "outputs": [],
   "source": [
    "%matplotlib inline\n",
    "import requests\n",
    "import json"
   ]
  },
  {
   "cell_type": "code",
   "execution_count": 4,
   "metadata": {
    "collapsed": false
   },
   "outputs": [
    {
     "name": "stdout",
     "output_type": "stream",
     "text": [
      "REQ: http://127.0.0.1:5000/\n",
      "RSP:\n",
      "{\n",
      "  \"lastModified\": \"2015-07-08T23:04:18Z\", \n",
      "  \"hrefs\": [\n",
      "    {\n",
      "      \"href\": \"http://craterlake.test.hdfgroup.org/\", \n",
      "      \"rel\": \"self\"\n",
      "    }, \n",
      "    {\n",
      "      \"href\": \"http://craterlake.test.hdfgroup.org/datasets\", \n",
      "      \"rel\": \"database\"\n",
      "    }, \n",
      "    {\n",
      "      \"href\": \"http://craterlake.test.hdfgroup.org/groups\", \n",
      "      \"rel\": \"groupbase\"\n",
      "    }, \n",
      "    {\n",
      "      \"href\": \"http://craterlake.test.hdfgroup.org/datatypes\", \n",
      "      \"rel\": \"typebase\"\n",
      "    }, \n",
      "    {\n",
      "      \"href\": \"http://craterlake.test.hdfgroup.org/groups/a96ccff0-25c5-11e5-896c-3c15c2da029e\", \n",
      "      \"rel\": \"root\"\n",
      "    }\n",
      "  ], \n",
      "  \"root\": \"a96ccff0-25c5-11e5-896c-3c15c2da029e\", \n",
      "  \"created\": \"2015-07-08T23:04:18Z\"\n",
      "}\n"
     ]
    }
   ],
   "source": [
    "# get domain object\n",
    "domain = \"craterlake.test.hdfgroup.org\"\n",
    "headers = {'host': domain}\n",
    "endpoint = \"http://127.0.0.1:5000\"\n",
    "req = endpoint + '/'\n",
    "print \"REQ:\", req\n",
    "print \"RSP:\"\n",
    "rsp = requests.get(req, headers=headers)\n",
    "domain_json = rsp.json()\n",
    "print json.dumps(rsp.json(), indent=2)"
   ]
  },
  {
   "cell_type": "code",
   "execution_count": null,
   "metadata": {
    "collapsed": false
   },
   "outputs": [],
   "source": [
    "# save the root group uuid\n",
    "root_uuid = domain_json['root']\n",
    "# get 'Data' link of root group\n",
    "req = endpoint + '/groups/' + root_uuid + '/links/Data'\n",
    "print \"REQ:\", req\n",
    "print \"RSP:\"\n",
    "rsp = requests.get(req, headers=headers)\n",
    "link_json = rsp.json()\n",
    "print json.dumps(rsp.json(), indent=2)\n"
   ]
  },
  {
   "cell_type": "code",
   "execution_count": null,
   "metadata": {
    "collapsed": false
   },
   "outputs": [],
   "source": [
    "dset_uuid = link_json['link']['id']\n",
    "print dset_uuid"
   ]
  },
  {
   "cell_type": "code",
   "execution_count": null,
   "metadata": {
    "collapsed": false
   },
   "outputs": [],
   "source": [
    "# get the datset obj\n",
    "req = endpoint + '/datasets/' + dset_uuid\n",
    "print \"REQ:\", req\n",
    "print \"RSP:\"\n",
    "rsp = requests.get(req, headers=headers)\n",
    "dset_json = rsp.json()\n",
    "print json.dumps(rsp.json(), indent=2)"
   ]
  },
  {
   "cell_type": "code",
   "execution_count": null,
   "metadata": {
    "collapsed": false
   },
   "outputs": [],
   "source": [
    "#get the data (finanlly!)\n",
    "req = endpoint + '/datasets/' + dset_uuid + '/value'\n",
    "print \"REQ:\", req\n",
    "rsp = requests.get(req, headers=headers)\n",
    "print rsp.status_code\n",
    "data_json = rsp.json()\n",
    "values = data_json['value']\n",
    "import numpy as np\n",
    "ndarr = np.zeros(dset_json['shape']['dims'],dtype='i4')\n",
    "ndarr[...] = values\n",
    "import matplotlib.pyplot as plt\n",
    "plt.imshow(ndarr)\n",
    "plt.set_cmap('spectral')\n",
    "plt.colorbar()\n",
    "plt.show()\n"
   ]
  },
  {
   "cell_type": "code",
   "execution_count": null,
   "metadata": {
    "collapsed": false
   },
   "outputs": [],
   "source": [
    "# zoom in on wizard island\n",
    "req = endpoint + '/datasets/' + dset_uuid + '/value?select=[140:180,90:130]'\n",
    "print \"REQ:\", req\n",
    "rsp = requests.get(req, headers=headers)\n",
    "print rsp.status_code\n",
    "data_json = rsp.json()\n",
    "values = data_json['value']\n",
    "import numpy as np\n",
    "ndarr = np.zeros((40,40) ,dtype='i4')\n",
    "ndarr[...] = values\n",
    "import matplotlib.pyplot as plt\n",
    "plt.imshow(ndarr)\n",
    "plt.set_cmap('spectral')\n",
    "plt.colorbar()\n",
    "plt.show()"
   ]
  },
  {
   "cell_type": "code",
   "execution_count": null,
   "metadata": {
    "collapsed": true
   },
   "outputs": [],
   "source": []
  }
 ],
 "metadata": {
  "kernelspec": {
   "display_name": "Python 2",
   "language": "python",
   "name": "python2"
  },
  "language_info": {
   "codemirror_mode": {
    "name": "ipython",
    "version": 2
   },
   "file_extension": ".py",
   "mimetype": "text/x-python",
   "name": "python",
   "nbconvert_exporter": "python",
   "pygments_lexer": "ipython2",
   "version": "2.7.9"
  }
 },
 "nbformat": 4,
 "nbformat_minor": 0
}
